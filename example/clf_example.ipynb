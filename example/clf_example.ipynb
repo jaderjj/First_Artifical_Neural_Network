{
 "cells": [
  {
   "cell_type": "markdown",
   "metadata": {},
   "source": [
    "# Digit Classification Using My Two Layer Neural Network\n",
    "- Data and further tutorials can be found here:\n",
    "https://www.kaggle.com/kanncaa1/deep-learning-tutorial-for-beginners"
   ]
  },
  {
   "cell_type": "markdown",
   "metadata": {},
   "source": [
    "# Import Libraries"
   ]
  },
  {
   "cell_type": "code",
   "execution_count": 1,
   "metadata": {},
   "outputs": [],
   "source": [
    "import numpy as np\n",
    "import matplotlib.pyplot as plt\n",
    "import seaborn as sns\n",
    "import sys\n",
    "sys.path.append('../src')\n",
    "from TwoLayerANN import TwoLayerANN as TLNN\n",
    "from sklearn.model_selection import train_test_split"
   ]
  },
  {
   "cell_type": "markdown",
   "metadata": {},
   "source": [
    "# Load Data"
   ]
  },
  {
   "cell_type": "code",
   "execution_count": 2,
   "metadata": {},
   "outputs": [],
   "source": [
    "# X are digit images pixel data\n",
    "# Each image is best seen at 64 x 64 pixels\n",
    "X_all = np.load('../data/X.npy')\n",
    "# Y are labels (either the digit is a 0 or a 1)\n",
    "Y_all = np.load('../data/Y.npy')"
   ]
  },
  {
   "cell_type": "code",
   "execution_count": 3,
   "metadata": {},
   "outputs": [
    {
     "data": {
      "text/plain": [
       "<matplotlib.image.AxesImage at 0x1a261ec210>"
      ]
     },
     "execution_count": 3,
     "metadata": {},
     "output_type": "execute_result"
    },
    {
     "data": {
      "image/png": "[encoded data removed]",
      "text/plain": [
       "<Figure size 432x288 with 2 Axes>"
      ]
     },
     "metadata": {
      "needs_background": "light"
     },
     "output_type": "display_data"
    }
   ],
   "source": [
    "plt.subplot(1, 2, 1)\n",
    "plt.imshow(X_all[230].reshape(64, 64))\n",
    "plt.subplot(1, 2, 2)\n",
    "plt.imshow(X_all[1000].reshape(64, 64))"
   ]
  },
  {
   "cell_type": "markdown",
   "metadata": {},
   "source": [
    "# Create Image Array\n",
    "1. The shape of the X is (410, 64, 64) (the zero and one images)\n",
    "- 410 means that we have 410 images (zero and one signs)\n",
    "- 64 means that our image size is 64x64 (64x64 pixels)\n",
    "2. The shape of the Y is (410,1)\n",
    "- 410 means that we have 410 labels (0 and 1)"
   ]
  },
  {
   "cell_type": "code",
   "execution_count": 4,
   "metadata": {},
   "outputs": [
    {
     "name": "stdout",
     "output_type": "stream",
     "text": [
      "X shape:  (410, 64, 64)\n",
      "Y shape:  (410, 1)\n"
     ]
    }
   ],
   "source": [
    "# X_all from 205 to 409 is zero and 822 to 1028 is one.\n",
    "X = np.concatenate((X_all[204:409], X_all[822:1027] ), axis=0)\n",
    "z = np.zeros(205)\n",
    "o = np.ones(205)\n",
    "Y = np.concatenate((z, o), axis=0).reshape(X.shape[0],1)\n",
    "print(\"X shape: \" , X.shape)\n",
    "print(\"Y shape: \" , Y.shape)"
   ]
  },
  {
   "cell_type": "markdown",
   "metadata": {},
   "source": [
    "# Train - Test Split"
   ]
  },
  {
   "cell_type": "code",
   "execution_count": 5,
   "metadata": {},
   "outputs": [],
   "source": [
    "X_train, X_test, Y_train, Y_test = train_test_split(X, Y,\n",
    "                                                    test_size=0.20,\n",
    "                                                    random_state=1337)\n",
    "number_of_train = X_train.shape[0]\n",
    "number_of_test = X_test.shape[0]"
   ]
  },
  {
   "cell_type": "markdown",
   "metadata": {},
   "source": [
    "# Flatten 3D Array to 2D Array\n",
    "- Want X to be 2D array of size (a,b); where a are feature values.\n",
    "- Want Y to be 2D array of size (1,b)"
   ]
  },
  {
   "cell_type": "code",
   "execution_count": 6,
   "metadata": {},
   "outputs": [
    {
     "name": "stdout",
     "output_type": "stream",
     "text": [
      "X train flatten (328, 4096)\n",
      "X test flatten (82, 4096)\n"
     ]
    }
   ],
   "source": [
    "X_train_flatten = X_train.reshape(number_of_train,X_train.shape[1]*X_train.shape[2])\n",
    "X_test_flatten = X_test.reshape(number_of_test,X_test.shape[1]*X_test.shape[2])\n",
    "print(\"X train flatten\",X_train_flatten.shape)\n",
    "print(\"X test flatten\",X_test_flatten.shape)"
   ]
  },
  {
   "cell_type": "code",
   "execution_count": 7,
   "metadata": {},
   "outputs": [
    {
     "name": "stdout",
     "output_type": "stream",
     "text": [
      "x train:  (4096, 328)\n",
      "x test:  (4096, 82)\n",
      "y train:  (1, 328)\n",
      "y test:  (1, 82)\n"
     ]
    }
   ],
   "source": [
    "# need to transpose to get row values as feature values\n",
    "x_train = X_train_flatten.T\n",
    "x_test = X_test_flatten.T\n",
    "y_train = Y_train.T\n",
    "y_test = Y_test.T\n",
    "print(\"x train: \",x_train.shape)\n",
    "print(\"x test: \",x_test.shape)\n",
    "print(\"y train: \",y_train.shape)\n",
    "print(\"y test: \",y_test.shape)"
   ]
  },
  {
   "cell_type": "markdown",
   "metadata": {},
   "source": [
    "# Two Layer ANN"
   ]
  },
  {
   "cell_type": "code",
   "execution_count": 8,
   "metadata": {},
   "outputs": [],
   "source": [
    "A = TLNN()"
   ]
  },
  {
   "cell_type": "code",
   "execution_count": 9,
   "metadata": {},
   "outputs": [
    {
     "name": "stdout",
     "output_type": "stream",
     "text": [
      "\n",
      "Cost after iteration 0: 0.310855\n",
      "\n",
      "Cost after iteration 100: 0.338862\n",
      "\n",
      "Cost after iteration 200: 0.341425\n",
      "\n",
      "Cost after iteration 300: 0.342307\n",
      "\n",
      "Cost after iteration 400: 0.342611\n",
      "\n",
      "Cost after iteration 500: 0.342711\n",
      "\n",
      "Cost after iteration 600: 0.342739\n",
      "\n",
      "Cost after iteration 700: 0.342741\n",
      "\n",
      "Cost after iteration 800: 0.342728\n",
      "\n",
      "Cost after iteration 900: 0.342697\n",
      "\n",
      "Cost after iteration 1000: 0.342615\n",
      "\n",
      "Cost after iteration 1100: 0.342364\n",
      "\n",
      "Cost after iteration 1200: 0.341496\n",
      "\n",
      "Cost after iteration 1300: 0.335918\n",
      "\n",
      "Cost after iteration 1400: 0.318574\n",
      "\n",
      "Cost after iteration 1500: 0.298113\n",
      "\n",
      "Cost after iteration 1600: 0.262380\n",
      "\n",
      "Cost after iteration 1700: 0.224975\n",
      "\n",
      "Cost after iteration 1800: 0.192118\n",
      "\n",
      "Cost after iteration 1900: 0.179307\n",
      "\n",
      "Cost after iteration 2000: 0.145753\n",
      "\n",
      "Cost after iteration 2100: 0.128295\n",
      "\n",
      "Cost after iteration 2200: 0.113998\n",
      "\n",
      "Cost after iteration 2300: 0.101627\n",
      "\n",
      "Cost after iteration 2400: 0.090393\n"
     ]
    },
    {
     "data": {
      "image/png": "[encoded data removed]",
      "text/plain": [
       "<Figure size 432x288 with 1 Axes>"
      ]
     },
     "metadata": {
      "needs_background": "light"
     },
     "output_type": "display_data"
    },
    {
     "name": "stdout",
     "output_type": "stream",
     "text": [
      "train accuracy: 98.47560975609755 %\n",
      "test accuracy: 98.78048780487805 %\n"
     ]
    }
   ],
   "source": [
    "nn_params = A.two_layer_neural_network(x_train, y_train,x_test,y_test,numb_iterations=2500)"
   ]
  },
  {
   "cell_type": "markdown",
   "metadata": {},
   "source": [
    "# Visuals"
   ]
  },
  {
   "cell_type": "code",
   "execution_count": 12,
   "metadata": {},
   "outputs": [
    {
     "data": {
      "text/plain": [
       "<matplotlib.axes._subplots.AxesSubplot at 0x1a28425210>"
      ]
     },
     "execution_count": 12,
     "metadata": {},
     "output_type": "execute_result"
    },
    {
     "data": {
      "image/png": "[encoded data removed]",
      "text/plain": [
       "<Figure size 432x288 with 1 Axes>"
      ]
     },
     "metadata": {
      "needs_background": "light"
     },
     "output_type": "display_data"
    }
   ],
   "source": [
    "sns.distplot(nn_params['weight1'])"
   ]
  }
 ],
 "metadata": {
  "kernelspec": {
   "display_name": "Python 3",
   "language": "python",
   "name": "python3"
  },
  "language_info": {
   "codemirror_mode": {
    "name": "ipython",
    "version": 3
   },
   "file_extension": ".py",
   "mimetype": "text/x-python",
   "name": "python",
   "nbconvert_exporter": "python",
   "pygments_lexer": "ipython3",
   "version": "3.7.5"
  }
 },
 "nbformat": 4,
 "nbformat_minor": 4
}
